{
 "metadata": {
  "language_info": {
   "codemirror_mode": {
    "name": "ipython",
    "version": 3
   },
   "file_extension": ".py",
   "mimetype": "text/x-python",
   "name": "python",
   "nbconvert_exporter": "python",
   "pygments_lexer": "ipython3",
   "version": "3.9.1-final"
  },
  "orig_nbformat": 2,
  "kernelspec": {
   "name": "python3",
   "display_name": "Python 3.9.1 64-bit",
   "metadata": {
    "interpreter": {
     "hash": "aee8b7b246df8f9039afb4144a1f6fd8d2ca17a180786b69acc140d282b71a49"
    }
   }
  }
 },
 "nbformat": 4,
 "nbformat_minor": 2,
 "cells": [
  {
   "source": [
    "# Hypothesis: The amount of incoming first-year students that have no experience will be more than 75%.\n",
    " "
   ],
   "cell_type": "markdown",
   "metadata": {}
  },
  {
   "cell_type": "code",
   "execution_count": 170,
   "metadata": {},
   "outputs": [],
   "source": [
    "%reload_ext autoreload\n",
    "%autoreload 2"
   ]
  },
  {
   "source": [
    "## First I will read in the csv and convert it to a column oriented data table."
   ],
   "cell_type": "markdown",
   "metadata": {}
  },
  {
   "cell_type": "code",
   "execution_count": 171,
   "metadata": {},
   "outputs": [],
   "source": [
    "from data_utils import read_csv_rows, columnar\n",
    "\n",
    "data_rows: list[dict[str, str]] = read_csv_rows('../../data/survey.csv')\n",
    "columns : dict[str, list[str]] = columnar(data_rows)"
   ]
  },
  {
   "source": [
    "## Next I will select the experience column and show the first ten rows: "
   ],
   "cell_type": "markdown",
   "metadata": {}
  },
  {
   "cell_type": "code",
   "execution_count": 172,
   "metadata": {},
   "outputs": [
    {
     "output_type": "execute_result",
     "data": {
      "text/plain": [
       "{'prior_exp': ['1-2 years',\n",
       "  '2-6 months',\n",
       "  '2-6 months',\n",
       "  '2-6 months',\n",
       "  '7-12 months',\n",
       "  '1-2 years',\n",
       "  '7-12 months',\n",
       "  'None to less than one month!',\n",
       "  '7-12 months',\n",
       "  '2-6 months']}"
      ]
     },
     "metadata": {},
     "execution_count": 172
    }
   ],
   "source": [
    "from data_utils import head, select\n",
    "category: dict[str, list[str]] = select(columns, [\"prior_exp\"])\n",
    "head(category, 10)"
   ]
  },
  {
   "source": [
    "## Now I will select the status column and show the first ten rows: "
   ],
   "cell_type": "markdown",
   "metadata": {}
  },
  {
   "cell_type": "code",
   "execution_count": 173,
   "metadata": {},
   "outputs": [
    {
     "output_type": "execute_result",
     "data": {
      "text/plain": [
       "{'unc_status': ['Returning UNC Student',\n",
       "  'Returning UNC Student',\n",
       "  'Returning UNC Student',\n",
       "  'Incoming Transfer Student',\n",
       "  'Incoming First-year Student',\n",
       "  'Returning UNC Student',\n",
       "  'Returning UNC Student',\n",
       "  'Returning UNC Student',\n",
       "  'Returning UNC Student',\n",
       "  'Returning UNC Student']}"
      ]
     },
     "metadata": {},
     "execution_count": 173
    }
   ],
   "source": [
    "from data_utils import head, select\n",
    "cat_two: dict[str, list[str]] = select(columns, [\"unc_status\"])\n",
    "head(cat_two, 10)"
   ]
  },
  {
   "source": [
    "## Now I will show the totals for each category in the experience columns and the status columns."
   ],
   "cell_type": "markdown",
   "metadata": {}
  },
  {
   "cell_type": "code",
   "execution_count": 174,
   "metadata": {},
   "outputs": [
    {
     "output_type": "stream",
     "name": "stdout",
     "text": [
      "Total responses: {'1-2 years': 16, '2-6 months': 119, '7-12 months': 25, 'None to less than one month!': 332, 'Over 2 years': 10} \nStatus responses: {'Returning UNC Student': 295, 'Incoming Transfer Student': 24, 'Incoming First-year Student': 178, 'part-time transfer student': 1, 'Transfered in fall of 2020': 1, 'Returning UNC student/Transfer student': 1, 'First-year': 1, 'Current Freshman': 1} \n"
     ]
    }
   ],
   "source": [
    "from data_utils import count\n",
    "totals = count(category['prior_exp'])\n",
    "stats = count(cat_two['unc_status'])\n",
    "\n",
    "print(f\"Total responses: {totals} \")\n",
    "print(f\"Status responses: {stats} \")"
   ]
  },
  {
   "source": [
    "## Now I will produce list of bool on whether or not the student has past experience."
   ],
   "cell_type": "markdown",
   "metadata": {}
  },
  {
   "source": [
    "def lots_exp(col: list[str], threshold: str) -> list[bool]:\n",
    "    result: list[bool] = []\n",
    "    for item in col:\n",
    "        if item == threshold:\n",
    "            result.append(False)\n",
    "        else:\n",
    "            result.append(True)\n",
    "    return result\n",
    "\n",
    "exp_mask: list[bool] = lots_exp(category[\"prior_exp\"], \"None to less than one month!\")\n",
    "print(exp_mask)"
   ],
   "cell_type": "code",
   "metadata": {},
   "execution_count": 175,
   "outputs": [
    {
     "output_type": "stream",
     "name": "stdout",
     "text": [
      "[True, True, True, True, True, True, True, False, True, True, True, True, False, False, False, False, False, False, False, False, False, False, False, False, False, True, False, False, False, True, False, False, False, False, False, False, False, True, False, False, False, False, False, False, False, False, True, False, False, False, False, True, True, False, False, False, True, False, True, False, False, False, False, False, False, True, False, False, True, False, False, False, False, False, False, False, False, True, False, True, False, False, False, False, True, True, True, False, False, False, False, False, False, False, True, False, False, False, False, True, False, False, False, True, True, False, True, True, False, False, True, True, False, False, False, False, False, False, True, False, False, True, True, False, False, True, False, True, False, True, True, False, True, False, True, True, False, True, False, False, True, True, True, True, False, True, False, False, True, True, False, False, False, True, True, True, True, True, True, True, True, False, False, False, False, False, True, False, False, False, False, False, True, True, False, False, False, False, False, False, True, False, False, False, False, False, False, True, True, False, False, False, True, True, False, False, True, False, False, True, True, True, False, False, False, False, False, False, False, False, True, False, False, False, False, True, True, True, True, False, False, True, False, False, True, False, True, False, False, True, False, False, False, True, True, False, True, False, False, True, False, False, False, True, False, True, True, False, False, False, False, True, True, False, True, True, False, False, False, False, True, True, False, True, True, False, False, False, False, False, False, False, False, False, False, False, False, False, True, True, False, False, False, False, False, True, False, True, False, False, False, True, False, False, False, False, False, False, False, False, False, True, False, True, False, False, False, True, False, False, False, False, False, True, False, False, False, False, False, False, True, True, False, False, False, False, True, True, True, True, True, False, False, False, True, True, True, False, True, True, False, False, False, True, False, False, True, False, False, False, True, False, False, False, False, False, True, False, True, False, False, True, False, False, False, False, False, False, True, False, False, False, False, True, False, True, False, False, False, False, False, False, False, False, True, False, False, False, True, False, True, False, False, True, True, False, False, True, True, False, True, False, False, False, False, False, True, False, False, False, True, False, False, False, True, True, False, False, False, True, True, True, False, True, False, False, False, True, False, False, False, False, False, False, True, True, False, False, False, False, False, False, True, True, True, False, False, True, False, False, True, True, False, True, True, True, True, False, True, True, False, True, False, True, False, False, False, False, True, True, False, False, False, True, False, False, False, True, False, False, False, False, True, False, True, True, True, False, False, False, False, True, True, False, True, False, False, False, False, False, False, False]\n"
     ]
    }
   ]
  },
  {
   "source": [
    "## Now I will create the mask that only shows the students that have had no experience."
   ],
   "cell_type": "markdown",
   "metadata": {}
  },
  {
   "cell_type": "code",
   "execution_count": 176,
   "metadata": {},
   "outputs": [
    {
     "output_type": "stream",
     "name": "stdout",
     "text": [
      "['Returning UNC Student', 'Returning UNC Student', 'Returning UNC Student', 'Incoming Transfer Student', 'Incoming First-year Student', 'Returning UNC Student', 'Returning UNC Student', 'Returning UNC Student', 'Returning UNC Student', 'Returning UNC Student', 'Incoming First-year Student', 'Returning UNC Student', 'Returning UNC Student', 'Incoming First-year Student', 'Returning UNC Student', 'Incoming First-year Student', 'Returning UNC Student', 'Returning UNC Student', 'Returning UNC Student', 'Incoming First-year Student', 'Returning UNC Student', 'Incoming First-year Student', 'Returning UNC Student', 'Returning UNC Student', 'Returning UNC Student', 'part-time transfer student', 'Returning UNC Student', 'Incoming First-year Student', 'Incoming First-year Student', 'Incoming First-year Student', 'Incoming First-year Student', 'Returning UNC Student', 'Incoming First-year Student', 'Returning UNC Student', 'Returning UNC Student', 'Returning UNC Student', 'Returning UNC Student', 'Returning UNC Student', 'Incoming First-year Student', 'Returning UNC Student', 'Incoming First-year Student', 'Returning UNC Student', 'Returning UNC Student', 'Incoming First-year Student', 'Returning UNC Student', 'Incoming First-year Student', 'Incoming First-year Student', 'Incoming First-year Student', 'Incoming First-year Student', 'Returning UNC Student', 'Returning UNC Student', 'Incoming First-year Student', 'Returning UNC Student', 'Incoming First-year Student', 'Incoming First-year Student', 'Incoming First-year Student', 'Incoming First-year Student', 'Incoming First-year Student', 'Incoming First-year Student', 'Returning UNC Student', 'Returning UNC Student', 'Incoming First-year Student', 'Incoming First-year Student', 'Returning UNC Student', 'Returning UNC Student', 'Returning UNC Student', 'Returning UNC Student', 'Returning UNC Student', 'Returning UNC Student', 'Incoming First-year Student', 'Incoming First-year Student', 'Incoming First-year Student', 'Returning UNC Student', 'Incoming First-year Student', 'Returning UNC Student', 'Returning UNC Student', 'Returning UNC Student', 'Incoming First-year Student', 'Returning UNC Student', 'Incoming First-year Student', 'Returning UNC Student', 'Returning UNC Student', 'Incoming First-year Student', 'Incoming First-year Student', 'Returning UNC Student', 'Incoming First-year Student', 'Returning UNC Student', 'Incoming First-year Student', 'Returning UNC Student', 'Returning UNC Student', 'Returning UNC Student', 'Returning UNC Student', 'Returning UNC Student', 'Returning UNC Student', 'Returning UNC Student', 'Returning UNC Student', 'Returning UNC Student', 'Incoming First-year Student', 'Incoming First-year Student', 'Returning UNC Student', 'Incoming First-year Student', 'Returning UNC Student', 'Returning UNC Student', 'Returning UNC Student', 'Returning UNC Student', 'Incoming First-year Student', 'Incoming First-year Student', 'Incoming First-year Student', 'Returning UNC Student', 'Returning UNC Student', 'Incoming First-year Student', 'Returning UNC Student', 'Incoming First-year Student', 'Incoming First-year Student', 'Returning UNC Student', 'Returning UNC Student', 'Incoming Transfer Student', 'Incoming Transfer Student', 'Returning UNC Student', 'Incoming First-year Student', 'Returning UNC Student', 'Incoming First-year Student', 'Returning UNC Student', 'Returning UNC Student', 'Incoming First-year Student', 'Returning UNC Student', 'Returning UNC Student', 'Incoming First-year Student', 'Returning UNC Student', 'Returning UNC Student', 'Returning UNC Student', 'Incoming Transfer Student', 'Incoming First-year Student', 'Incoming First-year Student', 'Incoming First-year Student', 'Returning UNC Student', 'Returning UNC Student', 'Incoming Transfer Student', 'Incoming First-year Student', 'Returning UNC Student', 'Returning UNC Student', 'Returning UNC Student', 'Incoming First-year Student', 'Incoming First-year Student', 'Returning UNC Student', 'Incoming First-year Student', 'Returning UNC Student', 'Returning UNC Student', 'Returning UNC Student', 'Incoming First-year Student', 'Incoming First-year Student', 'Incoming First-year Student', 'Returning UNC Student', 'Returning UNC Student', 'Returning UNC Student', 'Incoming First-year Student', 'Returning UNC Student', 'Returning UNC Student', 'Returning UNC Student', 'Returning UNC Student', 'Incoming Transfer Student', 'Incoming First-year Student', 'Incoming First-year Student', 'Incoming First-year Student', 'Returning UNC Student', 'Incoming First-year Student', 'Incoming First-year Student', 'Incoming First-year Student', 'Returning UNC Student', 'Incoming First-year Student']\n"
     ]
    }
   ],
   "source": [
    "def masked(col: list[str], mask: list[bool]) -> list[str]:\n",
    "    result: list[str] = []\n",
    "    for i in range(len(mask)):\n",
    "        if mask[i]:\n",
    "            result.append(col[i])\n",
    "    return result\n",
    "\n",
    "last_mask: list[str] = masked(columns[\"unc_status\"], exp_mask)\n",
    "print(last_mask)"
   ]
  },
  {
   "source": [
    "## Now I will count the number of incoming first years students with no experience and compare it to the amount of first year students in general"
   ],
   "cell_type": "markdown",
   "metadata": {}
  },
  {
   "cell_type": "code",
   "execution_count": 177,
   "metadata": {},
   "outputs": [
    {
     "output_type": "stream",
     "name": "stdout",
     "text": [
      "Number of students who are incoming first year students and have no experience: 68 \nTotal number of Incoming first years: 178 \n"
     ]
    }
   ],
   "source": [
    "second_counts = count(last_mask)  \n",
    "\n",
    "print(f\"Number of students who are incoming first year students and have no experience: {second_counts['Incoming First-year Student']} \")\n",
    "print(f\"Total number of Incoming first years: {stats['Incoming First-year Student']} \")"
   ]
  },
  {
   "source": [
    "# In Conclusion: I was really far off because 68/178 is about 38 percent. \n",
    "\n",
    "I thought this was a really interesting topic to look into because I thought that more incoming first-year students would have no experience. "
   ],
   "cell_type": "markdown",
   "metadata": {}
  }
 ]
}